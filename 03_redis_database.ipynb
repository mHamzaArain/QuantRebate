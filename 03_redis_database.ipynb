{
 "cells": [
  {
   "cell_type": "code",
   "execution_count": null,
   "id": "45fbff4e",
   "metadata": {},
   "outputs": [],
   "source": []
  },
  {
   "cell_type": "code",
   "execution_count": 5,
   "id": "04b26b8b",
   "metadata": {},
   "outputs": [
    {
     "name": "stdout",
     "output_type": "stream",
     "text": [
      "2023-07-15 02:35:28.445046\n",
      "False\n"
     ]
    }
   ],
   "source": [
    "from datetime import datetime, timedelta\n",
    "\n",
    "def is_current_time_greater(last_time):\n",
    "    current_time = datetime.now()\n",
    "    print(current_time)\n",
    "    time_difference = current_time - last_time\n",
    "\n",
    "    if time_difference >= timedelta(minutes=5):\n",
    "        return True\n",
    "    else:\n",
    "        return False\n",
    "\n",
    "# Example usage:\n",
    "last_time = datetime(year=2023, month=7, day=15, hour=2, minute=35, second=0)\n",
    "result = is_current_time_greater(last_time)\n",
    "print(result)"
   ]
  },
  {
   "cell_type": "code",
   "execution_count": 6,
   "id": "6e19f2c3",
   "metadata": {},
   "outputs": [
    {
     "data": {
      "text/plain": [
       "datetime.datetime(2023, 7, 15, 5, 35)"
      ]
     },
     "execution_count": 6,
     "metadata": {},
     "output_type": "execute_result"
    }
   ],
   "source": [
    "last_time"
   ]
  },
  {
   "cell_type": "code",
   "execution_count": 7,
   "id": "34217f68",
   "metadata": {},
   "outputs": [
    {
     "data": {
      "text/plain": [
       "datetime.datetime(2023, 7, 15, 2, 36, 43, 315801)"
      ]
     },
     "execution_count": 7,
     "metadata": {},
     "output_type": "execute_result"
    }
   ],
   "source": [
    "current_time = datetime.now()\n",
    "current_time"
   ]
  },
  {
   "cell_type": "code",
   "execution_count": 15,
   "id": "37c5055f",
   "metadata": {},
   "outputs": [
    {
     "name": "stdout",
     "output_type": "stream",
     "text": [
      "1\n"
     ]
    }
   ],
   "source": [
    "import re\n",
    "\n",
    "def remove_non_numeric_chars(string):\n",
    "    return re.sub(r'\\D', '', string)\n",
    "\n",
    "# Example usage:\n",
    "text = \"1d\"\n",
    "result = remove_non_numeric_chars(text)\n",
    "print(result)"
   ]
  },
  {
   "cell_type": "code",
   "execution_count": 16,
   "id": "7f57b244",
   "metadata": {},
   "outputs": [],
   "source": [
    "import pandas as pd\n",
    "from lightweight_charts import Chart\n",
    "import ccxt\n",
    "import requests\n",
    "import time\n",
    "import numpy as np\n",
    "import asyncio\n",
    "import pandas_ta as ta\n",
    "from datetime import datetime, timedelta\n",
    "import re"
   ]
  },
  {
   "cell_type": "code",
   "execution_count": 17,
   "id": "f12d5cb2",
   "metadata": {},
   "outputs": [],
   "source": [
    "class Essential():\n",
    "    def __init__(self):\n",
    "        self.exchange=ccxt.binance()\n",
    "\n",
    "    def ohlc_data_fetch(self, symbol='BTCUSDT', timeframe='5m'):\n",
    "        ohlcv = self.exchange.fetch_ohlcv(symbol, timeframe)\n",
    "\n",
    "        dataframe = pd.DataFrame(ohlcv, columns=['time', 'open', 'high', 'low', 'close', 'volume'])\n",
    "        dataframe['time'] = pd.to_datetime(dataframe['time'], unit='ms')\n",
    "        # df.set_index('timestamp', inplace=True)\n",
    "        return dataframe\n",
    "\n",
    "    def current_price_data(self, symbol):\n",
    "        data = requests.get(f\"https://api.binance.com/api/v3/ticker/price?symbol={symbol}\")  \n",
    "        data = data.json()\n",
    "        data['time'] = int(time.time())\n",
    "\n",
    "        dataframe = pd.DataFrame([data])\n",
    "        dataframe['price'] = dataframe['price'].astype(float)\n",
    "        dataframe['time'] = pd.to_datetime(dataframe['time'], unit='s')\n",
    "        dataframe['volume'] = np.nan\n",
    "        return dataframe\n",
    "    \n",
    "    def check_time_difference(self, current_time, last_time, interval):\n",
    "        time_difference = current_time - last_time\n",
    "        print(time_difference, \" \",interval )\n",
    "        if time_difference >= timedelta(minutes=interval):\n",
    "            return True\n",
    "        else:\n",
    "            return False\n",
    "    \n",
    "    \n",
    "    def remove_non_numeric_chars(self, string):\n",
    "        return int(re.sub(r'\\D', '', string))"
   ]
  },
  {
   "cell_type": "code",
   "execution_count": 20,
   "id": "16e85b38",
   "metadata": {},
   "outputs": [
    {
     "data": {
      "text/html": [
       "<div>\n",
       "<style scoped>\n",
       "    .dataframe tbody tr th:only-of-type {\n",
       "        vertical-align: middle;\n",
       "    }\n",
       "\n",
       "    .dataframe tbody tr th {\n",
       "        vertical-align: top;\n",
       "    }\n",
       "\n",
       "    .dataframe thead th {\n",
       "        text-align: right;\n",
       "    }\n",
       "</style>\n",
       "<table border=\"1\" class=\"dataframe\">\n",
       "  <thead>\n",
       "    <tr style=\"text-align: right;\">\n",
       "      <th></th>\n",
       "      <th>time</th>\n",
       "      <th>open</th>\n",
       "      <th>high</th>\n",
       "      <th>low</th>\n",
       "      <th>close</th>\n",
       "      <th>volume</th>\n",
       "    </tr>\n",
       "  </thead>\n",
       "  <tbody>\n",
       "    <tr>\n",
       "      <th>497</th>\n",
       "      <td>2023-07-14 22:25:00</td>\n",
       "      <td>246.1</td>\n",
       "      <td>246.2</td>\n",
       "      <td>245.9</td>\n",
       "      <td>245.9</td>\n",
       "      <td>303.665</td>\n",
       "    </tr>\n",
       "    <tr>\n",
       "      <th>498</th>\n",
       "      <td>2023-07-14 22:26:00</td>\n",
       "      <td>245.9</td>\n",
       "      <td>246.0</td>\n",
       "      <td>245.9</td>\n",
       "      <td>245.9</td>\n",
       "      <td>15.443</td>\n",
       "    </tr>\n",
       "    <tr>\n",
       "      <th>499</th>\n",
       "      <td>2023-07-14 22:27:00</td>\n",
       "      <td>246.0</td>\n",
       "      <td>246.0</td>\n",
       "      <td>245.9</td>\n",
       "      <td>246.0</td>\n",
       "      <td>4.593</td>\n",
       "    </tr>\n",
       "  </tbody>\n",
       "</table>\n",
       "</div>"
      ],
      "text/plain": [
       "                   time   open   high    low  close   volume\n",
       "497 2023-07-14 22:25:00  246.1  246.2  245.9  245.9  303.665\n",
       "498 2023-07-14 22:26:00  245.9  246.0  245.9  245.9   15.443\n",
       "499 2023-07-14 22:27:00  246.0  246.0  245.9  246.0    4.593"
      ]
     },
     "execution_count": 20,
     "metadata": {},
     "output_type": "execute_result"
    }
   ],
   "source": [
    "esn = Essential()\n",
    "\n",
    "symbol = 'BNB/USDT'\n",
    "tick_symbol = symbol.replace(\"/\", \"\")\n",
    "timeframe = '1m'\n",
    "\n",
    "timeframe_interval = esn.remove_non_numeric_chars(timeframe)\n",
    "df = esn.ohlc_data_fetch(symbol=symbol, timeframe=timeframe)\n",
    "df.tail(3)\n"
   ]
  },
  {
   "cell_type": "code",
   "execution_count": 21,
   "id": "23407cbf",
   "metadata": {},
   "outputs": [
    {
     "data": {
      "text/plain": [
       "Timestamp('2023-07-14 22:27:00')"
      ]
     },
     "execution_count": 21,
     "metadata": {},
     "output_type": "execute_result"
    }
   ],
   "source": [
    "last_time = df['time'].iloc[-1]\n",
    "last_time"
   ]
  },
  {
   "cell_type": "code",
   "execution_count": 24,
   "id": "c0aa7010",
   "metadata": {},
   "outputs": [
    {
     "data": {
      "text/plain": [
       "0   2023-07-14 22:42:37\n",
       "Name: time, dtype: datetime64[ns]"
      ]
     },
     "execution_count": 24,
     "metadata": {},
     "output_type": "execute_result"
    }
   ],
   "source": [
    "tick =  esn.current_price_data(tick_symbol)\n",
    "tick['time']"
   ]
  },
  {
   "cell_type": "code",
   "execution_count": 27,
   "id": "568c182d",
   "metadata": {},
   "outputs": [
    {
     "data": {
      "text/plain": [
       "0   0 days 00:15:37\n",
       "Name: time, dtype: timedelta64[ns]"
      ]
     },
     "execution_count": 27,
     "metadata": {},
     "output_type": "execute_result"
    }
   ],
   "source": [
    "time_difference = tick['time'] - last_time\n",
    "time_difference"
   ]
  },
  {
   "cell_type": "code",
   "execution_count": 41,
   "id": "c030a7dd",
   "metadata": {},
   "outputs": [
    {
     "data": {
      "text/plain": [
       "True"
      ]
     },
     "execution_count": 41,
     "metadata": {},
     "output_type": "execute_result"
    }
   ],
   "source": [
    "condition = (time_difference >= timedelta(minutes=timeframe_interval))[0]\n",
    "# type(condition)\n",
    "condition"
   ]
  },
  {
   "cell_type": "code",
   "execution_count": 30,
   "id": "187fdc65",
   "metadata": {},
   "outputs": [
    {
     "ename": "ValueError",
     "evalue": "The truth value of a Series is ambiguous. Use a.empty, a.bool(), a.item(), a.any() or a.all().",
     "output_type": "error",
     "traceback": [
      "\u001b[0;31m---------------------------------------------------------------------------\u001b[0m",
      "\u001b[0;31mValueError\u001b[0m                                Traceback (most recent call last)",
      "\u001b[0;32m/tmp/ipykernel_40347/1665156040.py\u001b[0m in \u001b[0;36m?\u001b[0;34m()\u001b[0m\n\u001b[0;32m----> 1\u001b[0;31m \u001b[0;32mif\u001b[0m \u001b[0mtime_difference\u001b[0m \u001b[0;34m>=\u001b[0m \u001b[0mtimedelta\u001b[0m\u001b[0;34m(\u001b[0m\u001b[0mminutes\u001b[0m\u001b[0;34m=\u001b[0m\u001b[0mtimeframe_interval\u001b[0m\u001b[0;34m)\u001b[0m\u001b[0;34m:\u001b[0m\u001b[0;34m\u001b[0m\u001b[0;34m\u001b[0m\u001b[0m\n\u001b[0m\u001b[1;32m      2\u001b[0m     \u001b[0;32mTrue\u001b[0m\u001b[0;34m\u001b[0m\u001b[0;34m\u001b[0m\u001b[0m\n\u001b[1;32m      3\u001b[0m \u001b[0;32melse\u001b[0m\u001b[0;34m:\u001b[0m\u001b[0;34m\u001b[0m\u001b[0;34m\u001b[0m\u001b[0m\n\u001b[1;32m      4\u001b[0m     \u001b[0;32mFalse\u001b[0m\u001b[0;34m\u001b[0m\u001b[0;34m\u001b[0m\u001b[0m\n",
      "\u001b[0;32m~/.local/lib/python3.10/site-packages/pandas/core/generic.py\u001b[0m in \u001b[0;36m?\u001b[0;34m(self)\u001b[0m\n\u001b[1;32m   1464\u001b[0m     \u001b[0;34m@\u001b[0m\u001b[0mfinal\u001b[0m\u001b[0;34m\u001b[0m\u001b[0;34m\u001b[0m\u001b[0m\n\u001b[1;32m   1465\u001b[0m     \u001b[0;32mdef\u001b[0m \u001b[0m__nonzero__\u001b[0m\u001b[0;34m(\u001b[0m\u001b[0mself\u001b[0m\u001b[0;34m)\u001b[0m \u001b[0;34m->\u001b[0m \u001b[0mNoReturn\u001b[0m\u001b[0;34m:\u001b[0m\u001b[0;34m\u001b[0m\u001b[0;34m\u001b[0m\u001b[0m\n\u001b[0;32m-> 1466\u001b[0;31m         raise ValueError(\n\u001b[0m\u001b[1;32m   1467\u001b[0m             \u001b[0;34mf\"The truth value of a {type(self).__name__} is ambiguous. \"\u001b[0m\u001b[0;34m\u001b[0m\u001b[0;34m\u001b[0m\u001b[0m\n\u001b[1;32m   1468\u001b[0m             \u001b[0;34m\"Use a.empty, a.bool(), a.item(), a.any() or a.all().\"\u001b[0m\u001b[0;34m\u001b[0m\u001b[0;34m\u001b[0m\u001b[0m\n\u001b[1;32m   1469\u001b[0m         )\n",
      "\u001b[0;31mValueError\u001b[0m: The truth value of a Series is ambiguous. Use a.empty, a.bool(), a.item(), a.any() or a.all()."
     ]
    }
   ],
   "source": [
    "if time_difference >= timedelta(minutes=timeframe_interval):\n",
    "    True\n",
    "else:\n",
    "    False"
   ]
  }
 ],
 "metadata": {
  "kernelspec": {
   "display_name": "Python 3 (ipykernel)",
   "language": "python",
   "name": "python3"
  },
  "language_info": {
   "codemirror_mode": {
    "name": "ipython",
    "version": 3
   },
   "file_extension": ".py",
   "mimetype": "text/x-python",
   "name": "python",
   "nbconvert_exporter": "python",
   "pygments_lexer": "ipython3",
   "version": "3.10.6"
  },
  "vscode": {
   "interpreter": {
    "hash": "307c53b24b29167a38247f122f14618edc066d51f1879793f11c0c5c7568b40c"
   }
  }
 },
 "nbformat": 4,
 "nbformat_minor": 5
}
