{
 "cells": [
  {
   "cell_type": "code",
   "execution_count": 1,
   "id": "5b92eab2-841d-4248-b2ec-92f1e3fe51b1",
   "metadata": {},
   "outputs": [],
   "source": [
    "import pandas as pd\n",
    "import requests\n",
    "import ccxt\n",
    "import time\n",
    "import pandas_ta as ta"
   ]
  },
  {
   "cell_type": "code",
   "execution_count": 15,
   "id": "4b1cf932-2149-4386-842e-fbeb89f2ca6c",
   "metadata": {},
   "outputs": [],
   "source": [
    "## Interval data\n",
    "### Last row is current candle that is not made yet so technically 2nd last candle is made 100% not last candle.\n",
    "def ohlc_data_fetch(symbol='BTCUSDT', timeframe='5m'):\n",
    "    ohlcv = exchange.fetch_ohlcv(symbol, timeframe)\n",
    "    # Eliminate last row\n",
    "    ohlcv = ohlcv[:-1]\n",
    "    \n",
    "    df = pd.DataFrame(ohlcv, columns=['timestamp', 'open', 'high', 'low', 'close', 'volume'])\n",
    "    df['timestamp'] = pd.to_datetime(df['timestamp'], unit='ms')\n",
    "    df.set_index('timestamp', inplace=True)\n",
    "    return df\n",
    "\n",
    "## Current price data\n",
    "def current_price_data(pair):\n",
    "    data = requests.get(f\"https://api.binance.com/api/v3/ticker/price?symbol={pair}\")  \n",
    "    data = data.json()\n",
    "    data['time'] = int(time.time())\n",
    "    \n",
    "    df = pd.DataFrame([data])\n",
    "    df['price'] = df['price'].astype(float)\n",
    "    df['time'] = pd.to_datetime(df['time'], unit='ms')\n",
    "\n",
    "    return df\n",
    "\n",
    "def apply_indicator(df):\n",
    "    ## Candle Type\n",
    "    df['green_candle'] = df['close'] > df['open']\n",
    "    df['red_candle'] = df['green_candle'] != 1\n",
    "\n",
    "    ## EMA 10\n",
    "    df['ema10'] = ta.ema(df.close, timeperiod=10)\n",
    "    \n",
    "    ## Shifting\n",
    "    df['open_n-1'] = df['open'].shift()\n",
    "    df['high_n-1'] = df['high'].shift()\n",
    "    df['low_n-1'] = df['low'].shift()\n",
    "    df['close_n-1'] = df['close'].shift()\n",
    "    df['ema10_n-1'] = df['ema10'].shift()\n",
    "    df['green_candle-1'] = df['green_candle'].shift()\n",
    "    df['red_candle-1'] = df['red_candle'].shift()\n",
    "\n",
    "    df['open_n-2'] = df['open'].shift(2)\n",
    "    df['high_n-2'] = df['high'].shift(2)\n",
    "    df['low_n-2'] = df['low'].shift(2)\n",
    "    df['close_n-2'] = df['close'].shift(2)\n",
    "    df['ema10_n-2'] = df['ema10'].shift(2)\n",
    "    df['green_candle-2'] = df['green_candle'].shift(2)\n",
    "    df['red_candle-2'] = df['red_candle'].shift(2)\n",
    "\n",
    "    df['open_n-3'] = df['open'].shift(3)\n",
    "    df['high_n-3'] = df['high'].shift(3)\n",
    "    df['low_n-3'] = df['low'].shift(3)\n",
    "    df['close_n-3'] = df['close'].shift(3)\n",
    "    df['ema10_n-3'] = df['ema10'].shift(3)\n",
    "    df['green_candle-3'] = df['green_candle'].shift(3)\n",
    "    df['red_candle-3'] = df['red_candle'].shift(3)\n",
    "    return df\n",
    "    \n",
    "def buy_screener_condition(df):\n",
    "    # 1. Last developed candle is red and completely above 10 ema\n",
    "    df['buy_screener_condition_1'] = ( (df['red_candle']==True) & (df['low'] > df['ema10']) )\n",
    "    \n",
    "    # 2. 2nd and 3rd last candle is green and completely above 10 ema\n",
    "    df['buy_screener_condition_2'] = ( \n",
    "                                        (df['low_n-1'] > df['ema10_n-1']) & (df['low_n-2'] > df['ema10_n-2']) &\\\n",
    "                                        (df['green_candle_n-1']==True) & (df['green_candle_n-2']==True) \n",
    "                                    ) |\\\n",
    "                                    (\n",
    "                                        (df['low_n-1'] > df['ema10_n-1']) & (df['low_n-2'] > df['ema10_n-2']) & (df['low_n-3'] > df['ema10_n-3'])\\\n",
    "                                        (df['green_candle_n-1']==False) & (df['green_candle_n-2']==True) & (df['green_candle_n-3']==True) \n",
    "                                    )\n",
    "    # 3. Buy condition\n",
    "    df['buy_screener_conditions_all'] = (df['buy_screener_condition_1'] & df['buy_screener_condition_2'])\n",
    "    \n",
    "    # Either True/False\n",
    "    value = df['buy_screener_conditions_all'].iloc[-1]\n",
    "    \n",
    "    return value, df\n",
    "\n",
    "def buy_active_condition(symbol):\n",
    "    # 1. Current price >= -> 1. Last developed candle is red and completely above 10 ema\n",
    "    new_data = requests.get(f\"https://api.binance.com/api/v3/ticker/price?symbol={symbol.replace('/', '')}\")  \n",
    "    new_data = new_data.json()\n",
    "    new_data['price'] = float(new_data['price'])\n",
    "    # new_data['time'] = int(time.time())\n",
    "    return new_data\n",
    "    \n",
    "def calculate_entry_tp_sl(buy_size_usd, entry_base_currency, stoploss, rr=2.5):\n",
    "    # 1. Calculate qty of base aginst quote pair (e.g; BTC/USDT how many qty of BTC we get from 50 USDT.)\n",
    "    qty_base_currency = buy_size_usd / entry_base_currency\n",
    "    \n",
    "    # 2. Calculate stoploss\n",
    "    ## For now @ 10 ema of last red candle -> 1. Last developed candle is red and completely above 10 ema\n",
    "    stoploss_base_currency = stoploss\n",
    "    \n",
    "    # 3. Take Profit\n",
    "    ## Takeprofit 1:2.5 RR\n",
    "    risk_usd = entry_base_currency - stoploss_base_currency \n",
    "    reward_usd = risk_usd*rr\n",
    "    takeprofit = entry_base_currency + reward_usd\n",
    "    \n",
    "    return qty_base_currency, stoploss_base_currency, takeprofit\n",
    "\n",
    "def buy():\n",
    "    # https://stackoverflow.com/questions/65551059/how-to-send-oco-order-to-binance\n",
    "    ## Buy\n",
    "    order = exchange.create_order(symbol, 'limit', 'buy', amount, price)  # initial opening order\n",
    "    print(order)\n",
    "    \n",
    "    # Sell \n",
    "    order= client.order_oco_sell(\n",
    "        symbol= 'BTCUSDT',                                            \n",
    "        quantity= 1.00000,                                            \n",
    "        price= '32000.07',                                            \n",
    "        stopPrice= '29283.03',                                            \n",
    "        stopLimitPrice= '29000.00',                                            \n",
    "        stopLimitTimeInForce= 'FOK')\n",
    "    \n",
    "    print(order)\n",
    "    \n",
    "def check_sell_codition_price(takeprofit, stoploss):\n",
    "    # This will check that orders are executing successfully because STOP LIMIT ORDER handle sl and tp itself.\n",
    "    pass\n",
    "    \n",
    "def calculate_pnl():\n",
    "    # Calculate PNL of each trade\n",
    "    pass"
   ]
  },
  {
   "cell_type": "code",
   "execution_count": 5,
   "id": "eb33699b-2a76-49ec-a142-5d7e5dcb49af",
   "metadata": {},
   "outputs": [],
   "source": [
    "exchange = ccxt.binance()\n",
    "symbol = 'BNB/USDT'\n",
    "timeframe = '5m'\n",
    "\n",
    "df = ohlc_data_fetch(symbol=symbol, timeframe=timeframe)\n",
    "# df.tail()\n",
    "# current_price_data(symbol.replace('/', ''))"
   ]
  },
  {
   "cell_type": "code",
   "execution_count": null,
   "id": "7a15cad2-5534-4cf3-af2a-901c33122543",
   "metadata": {},
   "outputs": [],
   "source": [
    "def strategy(pair, tf, open_position=False):\n",
    "    while True:\n",
    "        df = ohlc_data_fetch(symbol=pair, timeframe=tf)\n",
    "        df = apply_indicator(df)\n",
    "        \n",
    "        # 0. Check position is not active.\n",
    "        if not open_position:\n",
    "            # 1. Screener will check that bot should active from given condition\n",
    "            screener_condition, df = buy_screener_condition(pair)\n",
    "            if active_condition:\n",
    "                not_bought_yet = True\n",
    "                objtive_time = time.time() + 60\n",
    "                expiry_time = objtive_time + 60*4\n",
    "                while not_bought_yet:\n",
    "                    # 2. If screener condition satisfied, now check buy condition on active price.\n",
    "                    new_data = buy_active_condition(pair, previos_candle_high)\n",
    "                    if df['open'] >= new_data['price'] and df['low'] > df['ema10']:\n",
    "                        # 3. Calculate entry price, take profit stoploss and qty of base against quote.\n",
    "                        entry_price, tp, sl, qty = calculate_entry_tp_sl(buy_size_usd=20, entry_base_currency=new_data['price'], stoploss=df['open'].iloc[-1], rr=2.5) \n",
    "                        # 4. If buy condition condition satisfied, then BUY @ STOP BUY ORDER\n",
    "                        # buy()\n",
    "                        print(entry_price)\n",
    "                        not_bought_yet = False\n",
    "                    elif df['low'] < df['ema10']:\n",
    "                        not_bought_yet = False\n",
    "                    elif time.time() > objtive_time:\n",
    "                        df = ohlc_data_fetch(symbol=pair, timeframe=tf)\n",
    "                        df = apply_indicator(df)\n",
    "                    elif time.time() > expiry_time:\\\n",
    "                        not_bought_yet = False  \n",
    "                        \n",
    "            else:\n",
    "                time.sleep(60)\n",
    "        \n",
    "        # 5. Check position is active.\n",
    "        if open_position:\n",
    "            # 6. Check current price hit stoploss and check position is cleared?\n",
    "            check_sell_codition_price()\n",
    "            \n",
    "            # 7. Calculate PNL\n",
    "            cal_pnl()\n",
    "            \n",
    "strategy('BNBUSDT', \"5m\")"
   ]
  },
  {
   "cell_type": "code",
   "execution_count": null,
   "id": "cdcb1384-366f-455e-b551-6b91a641ce3e",
   "metadata": {},
   "outputs": [],
   "source": []
  },
  {
   "cell_type": "code",
   "execution_count": 14,
   "id": "074c4ea4-b77f-4086-a1b9-e635d6d3e167",
   "metadata": {},
   "outputs": [
    {
     "data": {
      "text/plain": [
       "{'symbol': 'BNBUSDT', 'price': '235.20000000'}"
      ]
     },
     "execution_count": 14,
     "metadata": {},
     "output_type": "execute_result"
    }
   ],
   "source": [
    "buy_active_condition(symbol.replace('/', ''))"
   ]
  },
  {
   "cell_type": "code",
   "execution_count": null,
   "id": "e3f5641e-245f-479a-88f5-3f949522724e",
   "metadata": {},
   "outputs": [],
   "source": []
  },
  {
   "cell_type": "code",
   "execution_count": 29,
   "id": "83ce3409-6d34-49b8-b601-a4bf4f6e6a15",
   "metadata": {},
   "outputs": [
    {
     "name": "stdout",
     "output_type": "stream",
     "text": [
      "Current time in UTC: 2023-07-07 20:56:12\n"
     ]
    }
   ],
   "source": [
    "from datetime import datetime\n",
    "import pytz\n",
    "\n",
    "# Get the current time in UTC\n",
    "utc_time = datetime.now(pytz.utc)\n",
    "\n",
    "# Convert the UTC time to a string format\n",
    "current_time = utc_time.strftime('%Y-%m-%d %H:%M:%S')\n",
    "\n",
    "print(\"Current time in UTC:\", current_time)"
   ]
  },
  {
   "cell_type": "code",
   "execution_count": null,
   "id": "d7704227-24a1-46da-b4ae-f42c68bfc4fa",
   "metadata": {},
   "outputs": [],
   "source": []
  },
  {
   "cell_type": "code",
   "execution_count": 34,
   "id": "02d9b852-ee77-4fb8-a2e4-946c3fae2a2c",
   "metadata": {},
   "outputs": [],
   "source": [
    "import time\n",
    "\n",
    "\n",
    "# Calculate the time 1 minute ago in seconds\n"
   ]
  },
  {
   "cell_type": "code",
   "execution_count": null,
   "id": "f1c5a815-5592-4d2b-9eef-dd6b810ab9a6",
   "metadata": {},
   "outputs": [],
   "source": []
  },
  {
   "cell_type": "code",
   "execution_count": 36,
   "id": "a95a9a15-e3ba-4aef-bc1f-13cd819baadd",
   "metadata": {},
   "outputs": [
    {
     "name": "stdout",
     "output_type": "stream",
     "text": [
      "Current time is greater than 1 minute ago.\n"
     ]
    }
   ],
   "source": [
    "# Compare the current time with 1 minute ago\n",
    "if time.time() > objtive_time:\n",
    "    print(\"Current time is greater than 1 minute ago.\")\n",
    "else:\n",
    "    print(\"Current time is not greater than 1 minute ago.\")"
   ]
  },
  {
   "cell_type": "code",
   "execution_count": null,
   "id": "01cc3fee-1e79-42ec-ba41-e39c8a50018b",
   "metadata": {},
   "outputs": [],
   "source": []
  }
 ],
 "metadata": {
  "kernelspec": {
   "display_name": "Python 3 (ipykernel)",
   "language": "python",
   "name": "python3"
  },
  "language_info": {
   "codemirror_mode": {
    "name": "ipython",
    "version": 3
   },
   "file_extension": ".py",
   "mimetype": "text/x-python",
   "name": "python",
   "nbconvert_exporter": "python",
   "pygments_lexer": "ipython3",
   "version": "3.10.9"
  }
 },
 "nbformat": 4,
 "nbformat_minor": 5
}
